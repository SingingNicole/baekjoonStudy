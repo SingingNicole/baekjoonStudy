{
 "cells": [
  {
   "cell_type": "markdown",
   "id": "d5bb3ad0",
   "metadata": {},
   "source": [
    "### 문제\n",
    "땅 위에 달팽이가 있다. 이 달팽이는 높이가 V미터인 나무 막대를 올라갈 것이다.\n",
    "\n",
    "달팽이는 낮에 A미터 올라갈 수 있다. 하지만, 밤에 잠을 자는 동안 B미터 미끄러진다. 또, 정상에 올라간 후에는 미끄러지지 않는다.\n",
    "\n",
    "달팽이가 나무 막대를 모두 올라가려면, 며칠이 걸리는지 구하는 프로그램을 작성하시오.\n",
    "\n",
    "### 입력\n",
    "첫째 줄에 세 정수 A, B, V가 공백으로 구분되어서 주어진다. (1 ≤ B < A ≤ V ≤ 1,000,000,000)\n",
    "\n",
    "### 출력\n",
    "첫째 줄에 달팽이가 나무 막대를 모두 올라가는데 며칠이 걸리는지 출력한다."
   ]
  },
  {
   "cell_type": "code",
   "execution_count": 1,
   "id": "7062caaa",
   "metadata": {},
   "outputs": [],
   "source": [
    "# math 라이브러리 사용\n",
    "import math"
   ]
  },
  {
   "cell_type": "code",
   "execution_count": 2,
   "id": "4377e965",
   "metadata": {},
   "outputs": [
    {
     "name": "stdout",
     "output_type": "stream",
     "text": [
      "2 1 5\n"
     ]
    }
   ],
   "source": [
    "# 값을 입력받아 배열로 만든다.\n",
    "target_str = input()\n",
    "target_str_split = target_str.split()"
   ]
  },
  {
   "cell_type": "code",
   "execution_count": 3,
   "id": "1ae66bfb",
   "metadata": {},
   "outputs": [],
   "source": [
    "# 각각의 변수에 값 저장 => input()으로 입력받은 값은 str로 저장되므로 반드시 형변환한다.\n",
    "A = int(target_str_split[0])\n",
    "B = int(target_str_split[1])\n",
    "V = int(target_str_split[2])"
   ]
  },
  {
   "cell_type": "markdown",
   "id": "271c9532",
   "metadata": {},
   "source": [
    "#### 달팽이가 며칠동안 올라가는지 알아보는 수식"
   ]
  },
  {
   "cell_type": "markdown",
   "id": "300a212a",
   "metadata": {},
   "source": [
    "달팽이가 올라가는 총 일을 x라고 둔다면 달팽이는 x일 동안\n",
    "\n",
    "x * (올라간 거리) - (x - 1) * (미끄러진 거리) = 달팽이가 올라간 총 거리\n",
    "\n",
    "만큼의 거리를 올라가므로\n",
    "\n",
    "(달팽이가 올라간 총 거리 - 미끄러진 거리) / (올라간 거리 - 미끄러진 거리)\n",
    "\n",
    "이다. 따라서 해당 변수를 대입하면\n",
    "\n",
    "문제에서 요구하는 값은 (V - B) / (A - B)이다."
   ]
  },
  {
   "cell_type": "code",
   "execution_count": 4,
   "id": "ec714044",
   "metadata": {},
   "outputs": [],
   "source": [
    "answer = (V - B) / (A - B)"
   ]
  },
  {
   "cell_type": "code",
   "execution_count": 5,
   "id": "a9ee41e6",
   "metadata": {},
   "outputs": [
    {
     "name": "stdout",
     "output_type": "stream",
     "text": [
      "4\n"
     ]
    }
   ],
   "source": [
    "# 날짜값에는 소숫점이 존재하지 않으므로 math 라이브러리의 ceil을 이용해 소숫점을 올림하여 정수로 나타낸다.\n",
    "print(math.ceil(answer))"
   ]
  }
 ],
 "metadata": {
  "kernelspec": {
   "display_name": "Python 3 (ipykernel)",
   "language": "python",
   "name": "python3"
  },
  "language_info": {
   "codemirror_mode": {
    "name": "ipython",
    "version": 3
   },
   "file_extension": ".py",
   "mimetype": "text/x-python",
   "name": "python",
   "nbconvert_exporter": "python",
   "pygments_lexer": "ipython3",
   "version": "3.10.9"
  }
 },
 "nbformat": 4,
 "nbformat_minor": 5
}
