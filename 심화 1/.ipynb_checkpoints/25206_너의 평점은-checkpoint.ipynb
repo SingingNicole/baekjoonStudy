{
 "cells": [
  {
   "cell_type": "markdown",
   "id": "0e4cdd95",
   "metadata": {},
   "source": [
    "### 문제\n",
    "인하대학교 컴퓨터공학과를 졸업하기 위해서는, 전공평점이 3.3 이상이거나 졸업고사를 통과해야 한다. 그런데 아뿔싸, 치훈이는 깜빡하고 졸업고사를 응시하지 않았다는 사실을 깨달았다!\n",
    "\n",
    "치훈이의 전공평점을 계산해주는 프로그램을 작성해보자.\n",
    "\n",
    "전공평점은 전공과목별 (학점 × 과목평점)의 합을 학점의 총합으로 나눈 값이다.\n",
    "\n",
    "인하대학교 컴퓨터공학과의 등급에 따른 과목평점은 다음 표와 같다.\n",
    "\n",
    "A+\t4.5\n",
    "\n",
    "A0\t4.0\n",
    "\n",
    "B+\t3.5\n",
    "\n",
    "B0\t3.0\n",
    "\n",
    "C+\t2.5\n",
    "\n",
    "C0\t2.0\n",
    "\n",
    "D+\t1.5\n",
    "\n",
    "D0\t1.0\n",
    "\n",
    "F\t0.0\n",
    "\n",
    "P/F 과목의 경우 등급이 P또는 F로 표시되는데, 등급이 P인 과목은 계산에서 제외해야 한다.\n",
    "\n",
    "과연 치훈이는 무사히 졸업할 수 있을까?"
   ]
  },
  {
   "cell_type": "markdown",
   "id": "b5330536",
   "metadata": {},
   "source": [
    "### 입력\n",
    "20줄에 걸쳐 치훈이가 수강한 전공과목의 과목명, 학점, 등급이 공백으로 구분되어 주어진다."
   ]
  },
  {
   "cell_type": "markdown",
   "id": "f15c6a5d",
   "metadata": {},
   "source": [
    "### 출력\n",
    "치훈이의 전공평점을 출력한다.\n",
    "\n",
    "정답과의 절대오차 또는 상대오차가 \n",
    "\\(10^{-4}\\) 이하이면 정답으로 인정한다."
   ]
  },
  {
   "cell_type": "markdown",
   "id": "0cf338ab",
   "metadata": {},
   "source": [
    "### 제한\n",
    "- 1 ≤ 과목명의 길이 ≤ 50\n",
    "- 과목명은 알파벳 대소문자 또는 숫자로만 이루어져 있으며, 띄어쓰기 없이 주어진다. 입력으로 주어지는 모든 과목명은 서로 다르다.\n",
    "- 학점은 1.0,2.0,3.0,4.0중 하나이다.\n",
    "- 등급은 A+,A0,B+,B0,C+,C0,D+,D0,F,P중 하나이다.\n",
    "- 적어도 한 과목은 등급이 P가 아님이 보장된다."
   ]
  },
  {
   "cell_type": "code",
   "execution_count": 1,
   "id": "761d16d0",
   "metadata": {},
   "outputs": [
    {
     "name": "stdout",
     "output_type": "stream",
     "text": [
      "ObjectOrientedProgramming1 3.0 A+\n",
      "IntroductiontoComputerEngineering 3.0 A+\n",
      "ObjectOrientedProgramming2 3.0 A0\n",
      "CreativeComputerEngineeringDesign 3.0 A+\n",
      "AssemblyLanguage 3.0 A+\n",
      "InternetProgramming 3.0 B0\n",
      "ApplicationProgramminginJava 3.0 A0\n",
      "SystemProgramming 3.0 B0\n",
      "OperatingSystem 3.0 B0\n",
      "WirelessCommunicationsandNetworking 3.0 C+\n",
      "LogicCircuits 3.0 B0\n",
      "DataStructure 4.0 A+\n",
      "MicroprocessorApplication 3.0 B+\n",
      "EmbeddedSoftware 3.0 C0\n",
      "ComputerSecurity 3.0 D+\n",
      "Database 3.0 C+\n",
      "Algorithm 3.0 B0\n",
      "CapstoneDesigninCSE 3.0 B+\n",
      "CompilerDesign 3.0 D0\n",
      "ProblemSolving 4.0 P\n"
     ]
    }
   ],
   "source": [
    "# 입력받은 값을 저장한다.\n",
    "score_data = []\n",
    "\n",
    "for i in range(20):\n",
    "    score_data.append(input().split())"
   ]
  },
  {
   "cell_type": "code",
   "execution_count": 2,
   "id": "d2922b67",
   "metadata": {},
   "outputs": [],
   "source": [
    "# 성적 값이 'P'가 아닌 값을 찾아 새 배열을 만든다.\n",
    "score_data2 = []\n",
    "\n",
    "for i in range(len(score_data)):\n",
    "    if score_data[i][2] == 'P':\n",
    "        continue\n",
    "    else:\n",
    "        score_data2.append(score_data[i])"
   ]
  },
  {
   "cell_type": "code",
   "execution_count": 3,
   "id": "23a220b6",
   "metadata": {},
   "outputs": [],
   "source": [
    "# 성적(key)과 점수(value)를 매칭할 dict형 데이터를 만든다.\n",
    "score_grade = {'A+': 4.5, 'A0': 4.0, 'B+': 3.5, 'B0': 3.0, 'C+': 2.5, 'C0': 2.0, 'D+': 1.5, 'D0': 1.0, 'F': 0.0}"
   ]
  },
  {
   "cell_type": "code",
   "execution_count": 4,
   "id": "f46da318",
   "metadata": {},
   "outputs": [],
   "source": [
    "# 총 학점과 점수를 저장할 변수 선언\n",
    "total_score = 0\n",
    "total_hours = 0\n",
    "\n",
    "# 'P' 성적값을 제거한 배열에서 각 요소의 성적값을 key값으로 가져와 value값으로 치환한다.\n",
    "# score_data2[i][1]에 저장된 값은 str이므로 float로 형변환하여 각 값을 점수와 학점 변수에 계속 더한다.\n",
    "for i in range(len(score_data2)):\n",
    "    score_data2[i][2] = score_grade[score_data2[i][2]]\n",
    "    total_score += float(score_data2[i][1]) * score_data2[i][2]\n",
    "    total_hours += float(score_data2[i][1])"
   ]
  },
  {
   "cell_type": "code",
   "execution_count": 5,
   "id": "22cc59d8",
   "metadata": {},
   "outputs": [
    {
     "name": "stdout",
     "output_type": "stream",
     "text": [
      "3.2844827586206895\n"
     ]
    }
   ],
   "source": [
    "# 총 점수를 총 학점으로 나누어 평균 학점을 구한다.\n",
    "print(total_score / total_hours)"
   ]
  }
 ],
 "metadata": {
  "kernelspec": {
   "display_name": "Python 3 (ipykernel)",
   "language": "python",
   "name": "python3"
  },
  "language_info": {
   "codemirror_mode": {
    "name": "ipython",
    "version": 3
   },
   "file_extension": ".py",
   "mimetype": "text/x-python",
   "name": "python",
   "nbconvert_exporter": "python",
   "pygments_lexer": "ipython3",
   "version": "3.10.9"
  }
 },
 "nbformat": 4,
 "nbformat_minor": 5
}
